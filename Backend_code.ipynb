{
  "nbformat": 4,
  "nbformat_minor": 0,
  "metadata": {
    "colab": {
      "name": "Backend_code.ipynb",
      "provenance": [],
      "authorship_tag": "ABX9TyMdDPsxQSGZAFRxpFujxjUc",
      "include_colab_link": true
    },
    "kernelspec": {
      "name": "python3",
      "display_name": "Python 3"
    },
    "language_info": {
      "name": "python"
    }
  },
  "cells": [
    {
      "cell_type": "markdown",
      "metadata": {
        "id": "view-in-github",
        "colab_type": "text"
      },
      "source": [
        "<a href=\"https://colab.research.google.com/github/jaiklen/DPM_Project/blob/master/Backend_code.ipynb\" target=\"_parent\"><img src=\"https://colab.research.google.com/assets/colab-badge.svg\" alt=\"Open In Colab\"/></a>"
      ]
    },
    {
      "cell_type": "code",
      "metadata": {
        "id": "GZN9BS7xP5cY"
      },
      "source": [
        "import tweepy\n",
        "from textblob import TextBlob\n",
        "from wordcloud import WordCloud\n",
        "import pandas as pd\n",
        "import numpy as np\n",
        "import re\n",
        "import matplotlib.pyplot as plt\n",
        "plt.style.use('fivethirtyeight')"
      ],
      "execution_count": null,
      "outputs": []
    },
    {
      "cell_type": "code",
      "metadata": {
        "id": "38Sgd1UnAGBJ"
      },
      "source": [
        "consumer_key = \"KKkTazbDImIGKH2vSjqdsIKO9\"\n",
        "consumer_secret = \"aF4URfFXK0t93omcBSUZNXN9qyC36wD3Yy7qG4nLOS3qyi1xst\"\n",
        "access_token = \"1448641204367683587-lBd07TNTQQFPu7HCbsxY02u3Kc1Q72\"\n",
        "access_token_secret = \"3XXClv7oXBEf2kQpiT0CRdgrBN4Lzjxkfi1UW6DdidikX\"\n",
        "auth = tweepy.OAuthHandler(consumer_key, consumer_secret)\n",
        "auth.set_access_token(access_token,access_token_secret)\n",
        "api = tweepy.API(auth)\n"
      ],
      "execution_count": null,
      "outputs": []
    },
    {
      "cell_type": "code",
      "metadata": {
        "colab": {
          "base_uri": "https://localhost:8080/"
        },
        "id": "N9ElPCuYQhqm",
        "outputId": "78364c47-7d80-4fa5-99f2-d2b9eea67a5f"
      },
      "source": [
        "public_tweets = api.search('Donald Trump')\n",
        "for tweet in public_tweets:\n",
        "  print(tweet.text)\n",
        "  analysis = TextBlob(tweet.text)\n",
        "  #print(analysis.sentiment)"
      ],
      "execution_count": null,
      "outputs": [
        {
          "output_type": "stream",
          "name": "stdout",
          "text": [
            "RT @mmpadellan: I hope the family of Halyna Hutchins sues Donald trump Jr for every penny he's worth because of the disgusting tee shirts h…\n",
            "On Cowboys for Trump:\n",
            "\n",
            "Those who attended Trump University were huge fans of Donald Trump, by definition. They beli… https://t.co/QJyePRqn2e\n",
            "RT @TheGoodLiars: Talked to a guy who believes the vaccine is killing people and Donald Trump saved lives with Operation Warp Speed. https:…\n",
            "RT @45rapeKatiejohn: \"Never forget Al Franken was setup by Roger Stone right after he said this about Donald Trump\"\n",
            "\n",
            "Sexual harassment alle…\n",
            "RT @svdate: \"When you catch somebody in a fraud, you’re allowed to go by very different rules.\"\n",
            "\n",
            "-- Donald Trump, 6 Jan. 2021\n",
            "RT @TristanSnell: Mark Meadows’s direct involvement with the January 6 organizers shows that the entire conspiracy was directed from the Wh…\n",
            "@TellYourSonThis High Test, High IQ- Vladimir Putin, Donald Trump\n",
            "RT @duty2warn: Donald Trump hates. He hates Democrats. He also hates Republicans, McConnell, McCarthy. He hates his followers the most. The…\n",
            "Donald Trump Jr is selling T-shirts about Alec Baldwin ‘Rust’ shooting https://t.co/fI0i18tYVu\n",
            "RT @mmpadellan: I hope the family of Halyna Hutchins sues Donald trump Jr for every penny he's worth because of the disgusting tee shirts h…\n",
            "RT @newsmax: One of former President Donald Trump's hand-picked candidates for the Senate, Herschel Walker, is getting an endorsement from…\n",
            "RT @mmpadellan: I hope the family of Halyna Hutchins sues Donald trump Jr for every penny he's worth because of the disgusting tee shirts h…\n",
            "RT @TheGoodLiars: Talked to a guy who believes the vaccine is killing people and Donald Trump saved lives with Operation Warp Speed. https:…\n",
            "RT @mmpadellan: I hope the family of Halyna Hutchins sues Donald trump Jr for every penny he's worth because of the disgusting tee shirts h…\n",
            "@SherriM79925540 @ReportsDaNews @AviFlyGirl @RepMTG I really think DOJ will have no choice but to prosecute there t… https://t.co/t5Xqg3VC5R\n"
          ]
        }
      ]
    },
    {
      "cell_type": "code",
      "metadata": {
        "id": "xvfUmr4_Rnee"
      },
      "source": [
        ""
      ],
      "execution_count": null,
      "outputs": []
    }
  ]
}